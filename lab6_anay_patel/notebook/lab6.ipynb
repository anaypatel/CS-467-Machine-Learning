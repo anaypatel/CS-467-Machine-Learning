{
 "cells": [
  {
   "cell_type": "code",
   "execution_count": 2,
   "metadata": {},
   "outputs": [],
   "source": [
    "import pandas as pd\n",
    "import numpy as np\n",
    "import matplotlib.pyplot as plt\n",
    "from sklearn.cluster import KMeans"
   ]
  },
  {
   "cell_type": "code",
   "execution_count": 8,
   "metadata": {},
   "outputs": [],
   "source": [
    "# LOAD DATA\n",
    "\n",
    "def unpickle(fname):\n",
    "    import pickle\n",
    "    \n",
    "    with open(fname, 'rb') as fopen:\n",
    "        res = pickle.load(fopen, encoding = 'bytes')\n",
    "    \n",
    "    return res\n",
    "\n",
    "data_path = '../data'\n",
    "\n",
    "test = unpickle(data_path + '/test_batch')\n",
    "test_labels = test[b'labels']\n",
    "test = test[b'data']\n",
    "\n",
    "test_len = len(test)\n",
    "\n",
    "test = test.reshape(test_len, 3, 32, 32)\n",
    "test = np.rollaxis(test, 1, 4)\n",
    "test_labels = np.array(test_labels)\n",
    "\n",
    "train_labels = []\n",
    "train = None\n",
    "\n",
    "# load files data_batch 1-5\n",
    "for i in range(1,6):\n",
    "    data = unpickle(data_path + '/data_batch_{}'.format(i))\n",
    "    if i == 1:\n",
    "        train = data[b'data']\n",
    "    elif i > 1:\n",
    "        train = np.vstack((train, data[b'data']))\n",
    "    train_labels += data[b'labels']\n",
    "\n",
    "train_len = len(train)\n",
    "\n",
    "train = train.reshape(train_len, 3, 32, 32)\n",
    "train = np.rollaxis(train, 1, 4)\n",
    "train_labels = np.array(train_labels)"
   ]
  },
  {
   "cell_type": "code",
   "execution_count": 15,
   "metadata": {},
   "outputs": [
    {
     "data": {
      "image/png": "[encoded data removed]",
      "text/plain": [
       "<Figure size 432x288 with 1 Axes>"
      ]
     },
     "metadata": {},
     "output_type": "display_data"
    }
   ],
   "source": [
    "# 2B\n",
    "# Birds are in Label 2\n",
    "\n",
    "birds_tr = train[train_labels == 2,:,:,:]\n",
    "birds_te = test[test_labels == 2,:,:,:]\n",
    "\n",
    "plt.imshow(birds_te[5])\n",
    "plt.show()"
   ]
  },
  {
   "cell_type": "code",
   "execution_count": 10,
   "metadata": {},
   "outputs": [],
   "source": [
    "# 2C\n",
    "\n",
    "# Generate random indexes for pixels\n",
    "\n",
    "randn_row = np.random.randint(32,size=(614400,))\n",
    "randn_col = np.random.randint(32,size=(614400,))\n",
    "randn_img = np.random.randint(6000,size=(614400,))\n",
    "\n",
    "# Choose 10% randomly from all birds data\n",
    "\n",
    "birds = np.concatenate([birds_tr, birds_te])\n",
    "kmeans_birds =  birds[randn_img, randn_row, randn_col, :]"
   ]
  },
  {
   "cell_type": "code",
   "execution_count": 48,
   "metadata": {},
   "outputs": [
    {
     "data": {
      "image/png": "[encoded data removed]",
      "text/plain": [
       "<Figure size 432x288 with 1 Axes>"
      ]
     },
     "metadata": {},
     "output_type": "display_data"
    }
   ],
   "source": [
    "# 2D\n",
    "\n",
    "# Run kmeans\n",
    "km = KMeans(n_clusters = 4).fit(kmeans_birds)\n",
    "\n",
    "# Categorize as 4 colors\n",
    "birds = (birds.reshape(-1, birds.shape[-1]))\n",
    "k_color_birds = (birds.reshape(-1, birds.shape[-1]))\n",
    "k_color_birds = km.predict(k_color_birds)\n",
    "k_color_birds = km.cluster_centers_[k_color_birds]\n",
    "k_color_birds = np.uint8(k_color_birds.reshape((6000,32,32,3)))\n",
    "\n",
    "# Get kmeans predictions\n",
    "predict = km.predict(birds)\n",
    "predict = np.eye(predict.max()+1)[predict]\n",
    "predict = predict.reshape((6000,4096))\n",
    "\n",
    "# Plot example\n",
    "plt.imshow(k_color_birds[5])\n",
    "plt.show()"
   ]
  },
  {
   "cell_type": "code",
   "execution_count": 61,
   "metadata": {},
   "outputs": [],
   "source": [
    "# 2E\n",
    "\n",
    "# Convert to grayscale\n",
    "\n",
    "from skimage.color import rgb2gray\n",
    "#gray_birds = rgb2gray(birds)\n",
    "gray_birds = np.dot(birds[..., :3],[0.30,0.59,0.11])\n",
    "gray_birds = gray_birds.reshape((6000, 32, 32, 1))"
   ]
  },
  {
   "cell_type": "code",
   "execution_count": 55,
   "metadata": {},
   "outputs": [],
   "source": [
    "# 2F\n",
    "\n",
    "from tensorflow.keras.models import Sequential\n",
    "from tensorflow.keras.layers import Dense\n",
    "from tensorflow.keras.layers import Dropout\n",
    "from tensorflow.keras.layers import Conv2D\n",
    "from tensorflow.keras.layers import MaxPooling2D\n",
    "from tensorflow.keras.layers import Flatten\n",
    "from sklearn.model_selection import train_test_split\n",
    "\n",
    "classifier = Sequential()\n",
    "\n",
    "# 1. Convolution\n",
    "classifier.add(Conv2D(64, input_shape = (32, 32, 1), kernel_size = 5, activation = 'relu'))\n",
    "\n",
    "# 2. Pooling\n",
    "classifier.add(MaxPooling2D(pool_size = (2, 2)))\n",
    "\n",
    "# Adding a second convolutional layer\n",
    "classifier.add(Conv2D(32, kernel_size = 5, activation = 'relu'))\n",
    "\n",
    "# Adding a third convolutional layer\n",
    "classifier.add(Conv2D(16, kernel_size = 5, activation = 'relu'))\n",
    "classifier.add(MaxPooling2D(pool_size = (2, 2)))\n",
    "\n",
    "# 3. Flattening\n",
    "classifier.add(Flatten())\n",
    "\n",
    "# 4. Connection\n",
    "classifier.add(Dense(units = 512, activation='relu'))\n",
    "classifier.add(Dense(units = 4096, activation='softmax'))\n",
    "\n",
    "# Compile the CNN\n",
    "\n",
    "classifier.compile(optimizer = 'adam', loss = 'binary_crossentropy', metrics = ['accuracy'])"
   ]
  },
  {
   "cell_type": "code",
   "execution_count": 63,
   "metadata": {},
   "outputs": [
    {
     "name": "stdout",
     "output_type": "stream",
     "text": [
      "Train on 3750 samples, validate on 1250 samples\n",
      "Epoch 1/30\n",
      "3750/3750 [==============================] - 14s 4ms/sample - loss: 2.0772 - accuracy: 0.7500 - val_loss: 2.0677 - val_accuracy: 0.7500\n",
      "Epoch 2/30\n",
      "3750/3750 [==============================] - 13s 3ms/sample - loss: 2.0682 - accuracy: 0.7500 - val_loss: 2.0657 - val_accuracy: 0.7500\n",
      "Epoch 3/30\n",
      "3750/3750 [==============================] - 13s 3ms/sample - loss: 2.0679 - accuracy: 0.7500 - val_loss: 2.0657 - val_accuracy: 0.7500\n",
      "Epoch 4/30\n",
      "3750/3750 [==============================] - 12s 3ms/sample - loss: 2.0679 - accuracy: 0.7500 - val_loss: 2.0657 - val_accuracy: 0.7500\n",
      "Epoch 5/30\n",
      "3750/3750 [==============================] - 13s 3ms/sample - loss: 2.0679 - accuracy: 0.7500 - val_loss: 2.0659 - val_accuracy: 0.7500\n",
      "Epoch 6/30\n",
      "3750/3750 [==============================] - 13s 3ms/sample - loss: 2.0679 - accuracy: 0.7500 - val_loss: 2.0658 - val_accuracy: 0.7500\n",
      "Epoch 7/30\n",
      "3750/3750 [==============================] - 13s 3ms/sample - loss: 2.0679 - accuracy: 0.7500 - val_loss: 2.0657 - val_accuracy: 0.7500\n",
      "Epoch 8/30\n",
      "3750/3750 [==============================] - 13s 3ms/sample - loss: 2.0679 - accuracy: 0.7500 - val_loss: 2.0659 - val_accuracy: 0.7500\n",
      "Epoch 9/30\n",
      "3750/3750 [==============================] - 12s 3ms/sample - loss: 2.0679 - accuracy: 0.7500 - val_loss: 2.0657 - val_accuracy: 0.7500\n",
      "Epoch 10/30\n",
      "3750/3750 [==============================] - 13s 3ms/sample - loss: 2.0679 - accuracy: 0.7500 - val_loss: 2.0656 - val_accuracy: 0.7500\n",
      "Epoch 11/30\n",
      "3750/3750 [==============================] - 14s 4ms/sample - loss: 2.0679 - accuracy: 0.7500 - val_loss: 2.0657 - val_accuracy: 0.7500\n",
      "Epoch 12/30\n",
      "3750/3750 [==============================] - 13s 3ms/sample - loss: 2.0679 - accuracy: 0.7500 - val_loss: 2.0658 - val_accuracy: 0.7500\n",
      "Epoch 13/30\n",
      "3750/3750 [==============================] - 13s 3ms/sample - loss: 2.0679 - accuracy: 0.7500 - val_loss: 2.0658 - val_accuracy: 0.7500\n",
      "Epoch 14/30\n",
      "3750/3750 [==============================] - 13s 3ms/sample - loss: 2.0679 - accuracy: 0.7500 - val_loss: 2.0658 - val_accuracy: 0.7500\n",
      "Epoch 15/30\n",
      "3750/3750 [==============================] - 13s 3ms/sample - loss: 2.0679 - accuracy: 0.7500 - val_loss: 2.0657 - val_accuracy: 0.7500\n",
      "Epoch 16/30\n",
      "3750/3750 [==============================] - 13s 4ms/sample - loss: 2.0679 - accuracy: 0.7500 - val_loss: 2.0658 - val_accuracy: 0.7500\n",
      "Epoch 17/30\n",
      "3750/3750 [==============================] - 13s 3ms/sample - loss: 2.0678 - accuracy: 0.7500 - val_loss: 2.0656 - val_accuracy: 0.7500\n",
      "Epoch 18/30\n",
      "3750/3750 [==============================] - 13s 3ms/sample - loss: 2.0679 - accuracy: 0.7500 - val_loss: 2.0658 - val_accuracy: 0.7500\n",
      "Epoch 19/30\n",
      "3750/3750 [==============================] - 13s 3ms/sample - loss: 2.0679 - accuracy: 0.7500 - val_loss: 2.0656 - val_accuracy: 0.7500\n",
      "Epoch 20/30\n",
      "3750/3750 [==============================] - 13s 3ms/sample - loss: 2.0678 - accuracy: 0.7500 - val_loss: 2.0657 - val_accuracy: 0.7500\n",
      "Epoch 21/30\n",
      "3750/3750 [==============================] - 13s 3ms/sample - loss: 2.0679 - accuracy: 0.7500 - val_loss: 2.0657 - val_accuracy: 0.7500\n",
      "Epoch 22/30\n",
      "3750/3750 [==============================] - 13s 3ms/sample - loss: 2.0679 - accuracy: 0.7500 - val_loss: 2.0657 - val_accuracy: 0.7500\n",
      "Epoch 23/30\n",
      "3750/3750 [==============================] - 13s 3ms/sample - loss: 2.0678 - accuracy: 0.7500 - val_loss: 2.0657 - val_accuracy: 0.7500\n",
      "Epoch 24/30\n",
      "3750/3750 [==============================] - 13s 3ms/sample - loss: 2.0679 - accuracy: 0.7500 - val_loss: 2.0656 - val_accuracy: 0.7500\n",
      "Epoch 25/30\n",
      "3750/3750 [==============================] - 13s 3ms/sample - loss: 2.0678 - accuracy: 0.7500 - val_loss: 2.0658 - val_accuracy: 0.7500\n",
      "Epoch 26/30\n",
      "3750/3750 [==============================] - 13s 3ms/sample - loss: 2.0678 - accuracy: 0.7500 - val_loss: 2.0656 - val_accuracy: 0.7500\n",
      "Epoch 27/30\n",
      "3750/3750 [==============================] - 13s 3ms/sample - loss: 2.0678 - accuracy: 0.7500 - val_loss: 2.0658 - val_accuracy: 0.7500\n",
      "Epoch 28/30\n",
      "3750/3750 [==============================] - 13s 3ms/sample - loss: 2.0678 - accuracy: 0.7500 - val_loss: 2.0658 - val_accuracy: 0.7500\n",
      "Epoch 29/30\n",
      "3750/3750 [==============================] - 13s 4ms/sample - loss: 2.0679 - accuracy: 0.7500 - val_loss: 2.0658 - val_accuracy: 0.7500\n",
      "Epoch 30/30\n",
      "3750/3750 [==============================] - 13s 4ms/sample - loss: 2.0678 - accuracy: 0.7500 - val_loss: 2.0657 - val_accuracy: 0.7500\n"
     ]
    }
   ],
   "source": [
    "# split into training and test data\n",
    "\n",
    "X_train = gray_birds[:5000,:,:,:]\n",
    "y_train = predict[:5000,:]\n",
    "\n",
    "X_train, X_test, y_train, y_test = train_test_split(X_train, y_train, test_size = 0.25, random_state = 1)\n",
    "\n",
    "results = classifier.fit(X_train, y_train, validation_data = (X_test, y_test), epochs = 30, batch_size = 32)"
   ]
  },
  {
   "cell_type": "code",
   "execution_count": 58,
   "metadata": {},
   "outputs": [
    {
     "data": {
      "text/plain": [
       "(6144000, 3)"
      ]
     },
     "execution_count": 58,
     "metadata": {},
     "output_type": "execute_result"
    }
   ],
   "source": []
  },
  {
   "cell_type": "code",
   "execution_count": null,
   "metadata": {},
   "outputs": [],
   "source": []
  }
 ],
 "metadata": {
  "kernelspec": {
   "display_name": "Python 3",
   "language": "python",
   "name": "python3"
  },
  "language_info": {
   "codemirror_mode": {
    "name": "ipython",
    "version": 3
   },
   "file_extension": ".py",
   "mimetype": "text/x-python",
   "name": "python",
   "nbconvert_exporter": "python",
   "pygments_lexer": "ipython3",
   "version": "3.6.5"
  }
 },
 "nbformat": 4,
 "nbformat_minor": 2
}
